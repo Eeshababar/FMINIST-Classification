{
  "nbformat": 4,
  "nbformat_minor": 0,
  "metadata": {
    "colab": {
      "provenance": []
    },
    "kernelspec": {
      "name": "python3",
      "display_name": "Python 3"
    },
    "language_info": {
      "name": "python"
    },
    "accelerator": "GPU",
    "gpuClass": "standard"
  },
  "cells": [
    {
      "cell_type": "code",
      "source": [
        "# to prevent unnecessary warnings\n",
        "import warnings\n",
        "warnings.simplefilter(action='ignore', category=FutureWarning)\n",
        "\n",
        "# TensorFlow and tf.keras\n",
        "import tensorflow as tf\n",
        "\n",
        "# Helper libraries\n",
        "import numpy as np\n",
        "import matplotlib.pyplot as plt\n",
        "import os\n",
        "import subprocess\n",
        "import cv2\n",
        "import json\n",
        "import requests\n",
        "from tqdm import tqdm\n",
        "\n",
        "print(tf.__version__)"
      ],
      "metadata": {
        "colab": {
          "base_uri": "https://localhost:8080/"
        },
        "id": "q3NuLN6kU0qH",
        "outputId": "f7015da8-bce2-4ea2-ec18-cf4f544c691a"
      },
      "execution_count": 2,
      "outputs": [
        {
          "output_type": "stream",
          "name": "stdout",
          "text": [
            "2.8.2\n"
          ]
        }
      ]
    },
    {
      "cell_type": "code",
      "source": [
        "fashion_mnist = tf.keras.datasets.fashion_mnist\n",
        "(train_images, train_labels), (test_images, test_labels) = fashion_mnist.load_data()\n",
        "\n",
        "class_names = ['T-shirt/top', 'Trouser', 'Pullover', 'Dress', 'Coat',\n",
        "'Sandal', 'Shirt', 'Sneaker', 'Bag', 'Ankle boot']\n",
        "\n",
        "print('\\nTrain_images.shape: {}, of {}'.format(train_images.shape, train_images.dtype))\n",
        "print('Test_images.shape: {}, of {}'.format(test_images.shape, test_images.dtype))"
      ],
      "metadata": {
        "colab": {
          "base_uri": "https://localhost:8080/"
        },
        "id": "PCziCnFhU6Gb",
        "outputId": "724bb0b9-751a-4ef3-f5cb-40f03abe77b6"
      },
      "execution_count": 3,
      "outputs": [
        {
          "output_type": "stream",
          "name": "stdout",
          "text": [
            "Downloading data from https://storage.googleapis.com/tensorflow/tf-keras-datasets/train-labels-idx1-ubyte.gz\n",
            "32768/29515 [=================================] - 0s 0us/step\n",
            "40960/29515 [=========================================] - 0s 0us/step\n",
            "Downloading data from https://storage.googleapis.com/tensorflow/tf-keras-datasets/train-images-idx3-ubyte.gz\n",
            "26427392/26421880 [==============================] - 0s 0us/step\n",
            "26435584/26421880 [==============================] - 0s 0us/step\n",
            "Downloading data from https://storage.googleapis.com/tensorflow/tf-keras-datasets/t10k-labels-idx1-ubyte.gz\n",
            "16384/5148 [===============================================================================================] - 0s 0us/step\n",
            "Downloading data from https://storage.googleapis.com/tensorflow/tf-keras-datasets/t10k-images-idx3-ubyte.gz\n",
            "4423680/4422102 [==============================] - 0s 0us/step\n",
            "4431872/4422102 [==============================] - 0s 0us/step\n",
            "\n",
            "Train_images.shape: (60000, 28, 28), of uint8\n",
            "Test_images.shape: (10000, 28, 28), of uint8\n"
          ]
        }
      ]
    },
    {
      "cell_type": "markdown",
      "source": [
        "#Reshape data"
      ],
      "metadata": {
        "id": "d8DZlLwuUrjn"
      }
    },
    {
      "cell_type": "code",
      "execution_count": 4,
      "metadata": {
        "colab": {
          "base_uri": "https://localhost:8080/"
        },
        "id": "HzAebCBfUgfr",
        "outputId": "1de23142-cb37-44f6-8aa4-e904a4ebba29"
      },
      "outputs": [
        {
          "output_type": "stream",
          "name": "stdout",
          "text": [
            "\n",
            "Train_images.shape: (60000, 28, 28, 3), of uint8\n",
            "Test_images.shape: (10000, 28, 28, 3), of uint8\n"
          ]
        }
      ],
      "source": [
        "train_images_3ch = np.stack([train_images]*3, axis=-1)\n",
        "test_images_3ch = np.stack([test_images]*3, axis=-1)\n",
        "\n",
        "print('\\nTrain_images.shape: {}, of {}'.format(train_images_3ch.shape, train_images_3ch.dtype))\n",
        "print('Test_images.shape: {}, of {}'.format(test_images_3ch.shape, test_images_3ch.dtype))\n",
        "\n",
        "#imagenet competition was for colored images hence 3 channels"
      ]
    },
    {
      "cell_type": "markdown",
      "source": [
        "#Resizing image"
      ],
      "metadata": {
        "id": "G_KpkzZpgM3d"
      }
    },
    {
      "cell_type": "markdown",
      "source": [
        "###The minimum image size expected by the VGG model is 32x32 so we need to resize our images"
      ],
      "metadata": {
        "id": "7txXp3TJgRlv"
      }
    },
    {
      "cell_type": "code",
      "source": [
        "import cv2\n",
        "\n",
        "def resize_image_array(img, img_size_dims):\n",
        "    img = cv2.resize(img, dsize=img_size_dims, \n",
        "    interpolation=cv2.INTER_CUBIC)\n",
        "    img = np.array(img, dtype=np.float32)\n",
        "    return img\n"
      ],
      "metadata": {
        "id": "oG5_8Yf8Uuau"
      },
      "execution_count": 5,
      "outputs": []
    },
    {
      "cell_type": "code",
      "source": [
        "%%time\n",
        "\n",
        "IMG_DIMS = (32, 32)\n",
        "\n",
        "train_images_3ch = np.array([resize_image_array(img, img_size_dims=IMG_DIMS) for img in train_images_3ch])\n",
        "test_images_3ch = np.array([resize_image_array(img, img_size_dims=IMG_DIMS) for img in test_images_3ch])\n",
        "\n",
        "print('\\nTrain_images.shape: {}, of {}'.format(train_images_3ch.shape, train_images_3ch.dtype))\n",
        "print('Test_images.shape: {}, of {}'.format(test_images_3ch.shape, test_images_3ch.dtype))"
      ],
      "metadata": {
        "colab": {
          "base_uri": "https://localhost:8080/"
        },
        "id": "thNfd8icgTks",
        "outputId": "0609d73a-006b-4d73-bcc3-80f15c3c83a4"
      },
      "execution_count": 6,
      "outputs": [
        {
          "output_type": "stream",
          "name": "stdout",
          "text": [
            "\n",
            "Train_images.shape: (60000, 32, 32, 3), of float32\n",
            "Test_images.shape: (10000, 32, 32, 3), of float32\n",
            "CPU times: user 1.5 s, sys: 663 ms, total: 2.16 s\n",
            "Wall time: 2.21 s\n"
          ]
        }
      ]
    },
    {
      "cell_type": "markdown",
      "source": [
        "#Build CNN Model"
      ],
      "metadata": {
        "id": "sBy4sttKglAe"
      }
    },
    {
      "cell_type": "code",
      "source": [
        "# define input shape\n",
        "INPUT_SHAPE = (32, 32, 3)\n",
        "\n",
        "# get the VGG19 model\n",
        "vgg_layers = tf.keras.applications.vgg19.VGG19(weights='imagenet', include_top=False,\n",
        "input_shape=INPUT_SHAPE)\n",
        "#we are adding our own layer \n",
        "vgg_layers.summary()\n",
        "#include_top=False = we will add our own last layer"
      ],
      "metadata": {
        "colab": {
          "base_uri": "https://localhost:8080/"
        },
        "id": "71k7pMm1gd3M",
        "outputId": "add89440-040b-49cb-8fa1-3676648b076e"
      },
      "execution_count": 7,
      "outputs": [
        {
          "output_type": "stream",
          "name": "stdout",
          "text": [
            "Downloading data from https://storage.googleapis.com/tensorflow/keras-applications/vgg19/vgg19_weights_tf_dim_ordering_tf_kernels_notop.h5\n",
            "80142336/80134624 [==============================] - 0s 0us/step\n",
            "80150528/80134624 [==============================] - 0s 0us/step\n",
            "Model: \"vgg19\"\n",
            "_________________________________________________________________\n",
            " Layer (type)                Output Shape              Param #   \n",
            "=================================================================\n",
            " input_1 (InputLayer)        [(None, 32, 32, 3)]       0         \n",
            "                                                                 \n",
            " block1_conv1 (Conv2D)       (None, 32, 32, 64)        1792      \n",
            "                                                                 \n",
            " block1_conv2 (Conv2D)       (None, 32, 32, 64)        36928     \n",
            "                                                                 \n",
            " block1_pool (MaxPooling2D)  (None, 16, 16, 64)        0         \n",
            "                                                                 \n",
            " block2_conv1 (Conv2D)       (None, 16, 16, 128)       73856     \n",
            "                                                                 \n",
            " block2_conv2 (Conv2D)       (None, 16, 16, 128)       147584    \n",
            "                                                                 \n",
            " block2_pool (MaxPooling2D)  (None, 8, 8, 128)         0         \n",
            "                                                                 \n",
            " block3_conv1 (Conv2D)       (None, 8, 8, 256)         295168    \n",
            "                                                                 \n",
            " block3_conv2 (Conv2D)       (None, 8, 8, 256)         590080    \n",
            "                                                                 \n",
            " block3_conv3 (Conv2D)       (None, 8, 8, 256)         590080    \n",
            "                                                                 \n",
            " block3_conv4 (Conv2D)       (None, 8, 8, 256)         590080    \n",
            "                                                                 \n",
            " block3_pool (MaxPooling2D)  (None, 4, 4, 256)         0         \n",
            "                                                                 \n",
            " block4_conv1 (Conv2D)       (None, 4, 4, 512)         1180160   \n",
            "                                                                 \n",
            " block4_conv2 (Conv2D)       (None, 4, 4, 512)         2359808   \n",
            "                                                                 \n",
            " block4_conv3 (Conv2D)       (None, 4, 4, 512)         2359808   \n",
            "                                                                 \n",
            " block4_conv4 (Conv2D)       (None, 4, 4, 512)         2359808   \n",
            "                                                                 \n",
            " block4_pool (MaxPooling2D)  (None, 2, 2, 512)         0         \n",
            "                                                                 \n",
            " block5_conv1 (Conv2D)       (None, 2, 2, 512)         2359808   \n",
            "                                                                 \n",
            " block5_conv2 (Conv2D)       (None, 2, 2, 512)         2359808   \n",
            "                                                                 \n",
            " block5_conv3 (Conv2D)       (None, 2, 2, 512)         2359808   \n",
            "                                                                 \n",
            " block5_conv4 (Conv2D)       (None, 2, 2, 512)         2359808   \n",
            "                                                                 \n",
            " block5_pool (MaxPooling2D)  (None, 1, 1, 512)         0         \n",
            "                                                                 \n",
            "=================================================================\n",
            "Total params: 20,024,384\n",
            "Trainable params: 20,024,384\n",
            "Non-trainable params: 0\n",
            "_________________________________________________________________\n"
          ]
        }
      ]
    },
    {
      "cell_type": "markdown",
      "source": [
        "#Fine tuning"
      ],
      "metadata": {
        "id": "cEGREd8zg0rl"
      }
    },
    {
      "cell_type": "code",
      "source": [
        "# Fine-tune all the layers\n",
        "for layer in vgg_layers.layers:\n",
        "  layer.trainable = True #we are training layers \n",
        "\n",
        "# Check the trainable status of the individual layers\n",
        "for layer in vgg_layers.layers:\n",
        "  print(layer, layer.trainable)"
      ],
      "metadata": {
        "colab": {
          "base_uri": "https://localhost:8080/"
        },
        "id": "34FqbAiWgojw",
        "outputId": "c5e2e787-f233-495f-d519-e8e317302df4"
      },
      "execution_count": 8,
      "outputs": [
        {
          "output_type": "stream",
          "name": "stdout",
          "text": [
            "<keras.engine.input_layer.InputLayer object at 0x7f0a33341450> True\n",
            "<keras.layers.convolutional.Conv2D object at 0x7f0a25136d50> True\n",
            "<keras.layers.convolutional.Conv2D object at 0x7f0a24e65510> True\n",
            "<keras.layers.pooling.MaxPooling2D object at 0x7f0a25126d50> True\n",
            "<keras.layers.convolutional.Conv2D object at 0x7f0a250e2250> True\n",
            "<keras.layers.convolutional.Conv2D object at 0x7f0a250e5b50> True\n",
            "<keras.layers.pooling.MaxPooling2D object at 0x7f0a25070350> True\n",
            "<keras.layers.convolutional.Conv2D object at 0x7f0a2506cd10> True\n",
            "<keras.layers.convolutional.Conv2D object at 0x7f0a32cf1850> True\n",
            "<keras.layers.convolutional.Conv2D object at 0x7f0a2507e810> True\n",
            "<keras.layers.convolutional.Conv2D object at 0x7f0a25082bd0> True\n",
            "<keras.layers.pooling.MaxPooling2D object at 0x7f0a2506c9d0> True\n",
            "<keras.layers.convolutional.Conv2D object at 0x7f0a25089710> True\n",
            "<keras.layers.convolutional.Conv2D object at 0x7f0a25092290> True\n",
            "<keras.layers.convolutional.Conv2D object at 0x7f0a250890d0> True\n",
            "<keras.layers.convolutional.Conv2D object at 0x7f0a2509b110> True\n",
            "<keras.layers.pooling.MaxPooling2D object at 0x7f0a250a3390> True\n",
            "<keras.layers.convolutional.Conv2D object at 0x7f0a250a2510> True\n",
            "<keras.layers.convolutional.Conv2D object at 0x7f0a25084110> True\n",
            "<keras.layers.convolutional.Conv2D object at 0x7f0a25032fd0> True\n",
            "<keras.layers.convolutional.Conv2D object at 0x7f0a2503af10> True\n",
            "<keras.layers.pooling.MaxPooling2D object at 0x7f0a2502cc90> True\n"
          ]
        }
      ]
    },
    {
      "cell_type": "markdown",
      "source": [
        "#Build CNN on the top of VGG19"
      ],
      "metadata": {
        "id": "liaUI9NzhC3c"
      }
    },
    {
      "cell_type": "code",
      "source": [
        "# define sequential model\n",
        "model = tf.keras.models.Sequential()\n",
        "\n",
        "# Add the vgg convolutional base model\n",
        "model.add(vgg_layers)\n",
        "\n",
        "# add flatten layer\n",
        "model.add(tf.keras.layers.Flatten())\n",
        "\n",
        "# add dense layers with some dropout\n",
        "model.add(tf.keras.layers.Dense(256, activation='relu'))\n",
        "model.add(tf.keras.layers.Dropout(rate=0.3))\n",
        "model.add(tf.keras.layers.Dense(256, activation='relu'))\n",
        "model.add(tf.keras.layers.Dropout(rate=0.3))\n",
        "\n",
        "# add output layer\n",
        "model.add(tf.keras.layers.Dense(10, activation='softmax'))\n",
        "\n",
        "# compile model\n",
        "model.compile(optimizer=tf.keras.optimizers.Adam(learning_rate=2e-5),\n",
        "loss='sparse_categorical_crossentropy',\n",
        "metrics=['accuracy'])\n",
        "\n",
        "# view model layers\n",
        "model.summary()"
      ],
      "metadata": {
        "colab": {
          "base_uri": "https://localhost:8080/"
        },
        "id": "WkRSk6Syg4Nu",
        "outputId": "0995ac93-7a17-449a-df33-99faf8085ee1"
      },
      "execution_count": 9,
      "outputs": [
        {
          "output_type": "stream",
          "name": "stdout",
          "text": [
            "Model: \"sequential\"\n",
            "_________________________________________________________________\n",
            " Layer (type)                Output Shape              Param #   \n",
            "=================================================================\n",
            " vgg19 (Functional)          (None, 1, 1, 512)         20024384  \n",
            "                                                                 \n",
            " flatten (Flatten)           (None, 512)               0         \n",
            "                                                                 \n",
            " dense (Dense)               (None, 256)               131328    \n",
            "                                                                 \n",
            " dropout (Dropout)           (None, 256)               0         \n",
            "                                                                 \n",
            " dense_1 (Dense)             (None, 256)               65792     \n",
            "                                                                 \n",
            " dropout_1 (Dropout)         (None, 256)               0         \n",
            "                                                                 \n",
            " dense_2 (Dense)             (None, 10)                2570      \n",
            "                                                                 \n",
            "=================================================================\n",
            "Total params: 20,224,074\n",
            "Trainable params: 20,224,074\n",
            "Non-trainable params: 0\n",
            "_________________________________________________________________\n"
          ]
        }
      ]
    },
    {
      "cell_type": "code",
      "source": [
        "EPOCHS = 100\n",
        "train_images_3ch_scaled = train_images_3ch / 255.\n",
        "es_callback = tf.keras.callbacks.EarlyStopping(monitor='val_loss', patience=2,\n",
        "restore_best_weights=True,\n",
        "verbose=1)\n",
        "\n",
        "history = model.fit(train_images_3ch_scaled, train_labels,\n",
        "batch_size=32,\n",
        "callbacks=[es_callback],\n",
        "validation_split=0.1, epochs=EPOCHS,\n",
        "verbose=1)"
      ],
      "metadata": {
        "colab": {
          "base_uri": "https://localhost:8080/"
        },
        "id": "Ss10wkx0hMNE",
        "outputId": "980b4da6-2c88-4b77-ce2d-accb99b7c507"
      },
      "execution_count": 10,
      "outputs": [
        {
          "output_type": "stream",
          "name": "stdout",
          "text": [
            "Epoch 1/100\n",
            "1688/1688 [==============================] - 78s 38ms/step - loss: 0.5235 - accuracy: 0.8264 - val_loss: 0.3186 - val_accuracy: 0.8902\n",
            "Epoch 2/100\n",
            "1688/1688 [==============================] - 64s 38ms/step - loss: 0.3136 - accuracy: 0.8959 - val_loss: 0.3058 - val_accuracy: 0.8938\n",
            "Epoch 3/100\n",
            "1688/1688 [==============================] - 64s 38ms/step - loss: 0.2617 - accuracy: 0.9117 - val_loss: 0.2295 - val_accuracy: 0.9188\n",
            "Epoch 4/100\n",
            "1688/1688 [==============================] - 63s 38ms/step - loss: 0.2303 - accuracy: 0.9203 - val_loss: 0.2414 - val_accuracy: 0.9148\n",
            "Epoch 5/100\n",
            "1688/1688 [==============================] - 64s 38ms/step - loss: 0.2040 - accuracy: 0.9292 - val_loss: 0.2058 - val_accuracy: 0.9272\n",
            "Epoch 6/100\n",
            "1688/1688 [==============================] - 63s 38ms/step - loss: 0.1832 - accuracy: 0.9361 - val_loss: 0.2029 - val_accuracy: 0.9273\n",
            "Epoch 7/100\n",
            "1688/1688 [==============================] - 63s 38ms/step - loss: 0.1609 - accuracy: 0.9440 - val_loss: 0.2075 - val_accuracy: 0.9303\n",
            "Epoch 8/100\n",
            "1688/1688 [==============================] - 63s 38ms/step - loss: 0.1452 - accuracy: 0.9500 - val_loss: 0.1837 - val_accuracy: 0.9332\n",
            "Epoch 9/100\n",
            "1688/1688 [==============================] - 63s 38ms/step - loss: 0.1268 - accuracy: 0.9556 - val_loss: 0.2059 - val_accuracy: 0.9308\n",
            "Epoch 10/100\n",
            "1687/1688 [============================>.] - ETA: 0s - loss: 0.1145 - accuracy: 0.9597Restoring model weights from the end of the best epoch: 8.\n",
            "1688/1688 [==============================] - 63s 38ms/step - loss: 0.1145 - accuracy: 0.9597 - val_loss: 0.2278 - val_accuracy: 0.9320\n",
            "Epoch 10: early stopping\n"
          ]
        }
      ]
    },
    {
      "cell_type": "markdown",
      "source": [
        "#Accuracy graphs"
      ],
      "metadata": {
        "id": "Pm54mt3zhZK6"
      }
    },
    {
      "cell_type": "code",
      "source": [
        "import pandas as pd\n",
        "fig, ax = plt.subplots(1, 2, figsize=(10, 4))\n",
        "\n",
        "history_df = pd.DataFrame(history.history)\n",
        "history_df[['loss', 'val_loss']].plot(kind='line', ax=ax[0])\n",
        "history_df[['accuracy', 'val_accuracy']].plot(kind='line', ax=ax[1]);\n"
      ],
      "metadata": {
        "colab": {
          "base_uri": "https://localhost:8080/",
          "height": 265
        },
        "id": "b2bu04xshTqo",
        "outputId": "beb9cbab-6fdc-4b25-c693-8c36bf7f44c4"
      },
      "execution_count": 12,
      "outputs": [
        {
          "output_type": "display_data",
          "data": {
            "text/plain": [
              "<Figure size 720x288 with 2 Axes>"
            ],
            "image/png": "[encoded data removed]"
          },
          "metadata": {
            "needs_background": "light"
          }
        }
      ]
    },
    {
      "cell_type": "markdown",
      "source": [
        "#Test data accuracy"
      ],
      "metadata": {
        "id": "Mj3fJsOPp1ct"
      }
    },
    {
      "cell_type": "code",
      "source": [
        "test_images_3ch_scaled = test_images_3ch / 255.\n",
        "predictions = model.predict(test_images_3ch_scaled)\n",
        "predictions[:5]"
      ],
      "metadata": {
        "colab": {
          "base_uri": "https://localhost:8080/"
        },
        "id": "rc03kto3psm0",
        "outputId": "8d88faf3-0d40-42f4-cb3a-de025160b293"
      },
      "execution_count": 13,
      "outputs": [
        {
          "output_type": "execute_result",
          "data": {
            "text/plain": [
              "array([[8.2340867e-10, 2.8423059e-09, 2.0353642e-10, 5.0417581e-09,\n",
              "        4.4183140e-10, 2.5759527e-07, 9.0209801e-10, 1.1363073e-05,\n",
              "        1.3139400e-09, 9.9998832e-01],\n",
              "       [2.4492384e-04, 5.2904752e-06, 9.9845862e-01, 2.3523331e-05,\n",
              "        5.6046224e-04, 2.1584758e-05, 6.6686596e-04, 9.2018054e-06,\n",
              "        6.5140521e-06, 2.9754356e-06],\n",
              "       [1.3240979e-11, 1.0000000e+00, 2.7550812e-11, 1.3596733e-09,\n",
              "        1.4097771e-11, 3.4155168e-11, 5.0390820e-11, 1.3885454e-11,\n",
              "        3.7343105e-13, 1.0608974e-10],\n",
              "       [9.7635571e-09, 9.9999964e-01, 1.6221936e-08, 3.1688836e-07,\n",
              "        7.5511704e-09, 1.3278602e-08, 2.6905701e-08, 8.8272527e-09,\n",
              "        5.8504795e-10, 3.3598564e-08],\n",
              "       [4.9692589e-01, 7.8504533e-04, 1.2435036e-02, 5.7563242e-03,\n",
              "        3.6659278e-03, 2.6308002e-03, 4.7291115e-01, 1.2741705e-03,\n",
              "        2.1356090e-03, 1.4800023e-03]], dtype=float32)"
            ]
          },
          "metadata": {},
          "execution_count": 13
        }
      ]
    },
    {
      "cell_type": "code",
      "source": [
        "prediction_labels = np.argmax(predictions, axis=1)\n",
        "prediction_labels[:5]"
      ],
      "metadata": {
        "colab": {
          "base_uri": "https://localhost:8080/"
        },
        "id": "tl5ytuFxqJOh",
        "outputId": "edc34d5b-31cc-453f-e7d8-44bae708944d"
      },
      "execution_count": 14,
      "outputs": [
        {
          "output_type": "execute_result",
          "data": {
            "text/plain": [
              "array([9, 2, 1, 1, 0])"
            ]
          },
          "metadata": {},
          "execution_count": 14
        }
      ]
    },
    {
      "cell_type": "code",
      "source": [
        "from sklearn.metrics import confusion_matrix, classification_report\n",
        "import pandas as pd\n",
        "\n",
        "print(classification_report(test_labels, prediction_labels, target_names=class_names))\n",
        "pd.DataFrame(confusion_matrix(test_labels, prediction_labels), index=class_names, columns=class_names)"
      ],
      "metadata": {
        "colab": {
          "base_uri": "https://localhost:8080/",
          "height": 677
        },
        "id": "bHH1Il6qqP7Y",
        "outputId": "8366630c-522a-407c-ae2b-0f2a2152989f"
      },
      "execution_count": 16,
      "outputs": [
        {
          "output_type": "stream",
          "name": "stdout",
          "text": [
            "              precision    recall  f1-score   support\n",
            "\n",
            " T-shirt/top       0.87      0.89      0.88      1000\n",
            "     Trouser       0.99      0.99      0.99      1000\n",
            "    Pullover       0.88      0.92      0.90      1000\n",
            "       Dress       0.92      0.93      0.93      1000\n",
            "        Coat       0.87      0.91      0.89      1000\n",
            "      Sandal       0.99      0.98      0.99      1000\n",
            "       Shirt       0.84      0.74      0.79      1000\n",
            "     Sneaker       0.98      0.97      0.97      1000\n",
            "         Bag       0.99      0.99      0.99      1000\n",
            "  Ankle boot       0.96      0.98      0.97      1000\n",
            "\n",
            "    accuracy                           0.93     10000\n",
            "   macro avg       0.93      0.93      0.93     10000\n",
            "weighted avg       0.93      0.93      0.93     10000\n",
            "\n"
          ]
        },
        {
          "output_type": "execute_result",
          "data": {
            "text/plain": [
              "             T-shirt/top  Trouser  Pullover  Dress  Coat  Sandal  Shirt  \\\n",
              "T-shirt/top          888        3        14     25     1       0     65   \n",
              "Trouser                2      990         0      6     0       0      1   \n",
              "Pullover              14        1       915      7    33       0     30   \n",
              "Dress                 11        4        11    929    24       0     17   \n",
              "Coat                   3        1        42     14   909       0     30   \n",
              "Sandal                 0        0         0      0     0     983      0   \n",
              "Shirt                100        2        54     26    72       0    742   \n",
              "Sneaker                0        0         0      0     0       4      0   \n",
              "Bag                    1        0         1      1     1       1      0   \n",
              "Ankle boot             0        0         0      0     0       2      1   \n",
              "\n",
              "             Sneaker  Bag  Ankle boot  \n",
              "T-shirt/top        0    4           0  \n",
              "Trouser            0    1           0  \n",
              "Pullover           0    0           0  \n",
              "Dress              0    1           3  \n",
              "Coat               0    1           0  \n",
              "Sandal            11    0           6  \n",
              "Shirt              0    4           0  \n",
              "Sneaker          966    0          30  \n",
              "Bag                0  994           1  \n",
              "Ankle boot        13    0         984  "
            ],
            "text/html": [
              "\n",
              "  <div id=\"df-4a957574-fd22-4214-bb58-d94047e08220\">\n",
              "    <div class=\"colab-df-container\">\n",
              "      <div>\n",
              "<style scoped>\n",
              "    .dataframe tbody tr th:only-of-type {\n",
              "        vertical-align: middle;\n",
              "    }\n",
              "\n",
              "    .dataframe tbody tr th {\n",
              "        vertical-align: top;\n",
              "    }\n",
              "\n",
              "    .dataframe thead th {\n",
              "        text-align: right;\n",
              "    }\n",
              "</style>\n",
              "<table border=\"1\" class=\"dataframe\">\n",
              "  <thead>\n",
              "    <tr style=\"text-align: right;\">\n",
              "      <th></th>\n",
              "      <th>T-shirt/top</th>\n",
              "      <th>Trouser</th>\n",
              "      <th>Pullover</th>\n",
              "      <th>Dress</th>\n",
              "      <th>Coat</th>\n",
              "      <th>Sandal</th>\n",
              "      <th>Shirt</th>\n",
              "      <th>Sneaker</th>\n",
              "      <th>Bag</th>\n",
              "      <th>Ankle boot</th>\n",
              "    </tr>\n",
              "  </thead>\n",
              "  <tbody>\n",
              "    <tr>\n",
              "      <th>T-shirt/top</th>\n",
              "      <td>888</td>\n",
              "      <td>3</td>\n",
              "      <td>14</td>\n",
              "      <td>25</td>\n",
              "      <td>1</td>\n",
              "      <td>0</td>\n",
              "      <td>65</td>\n",
              "      <td>0</td>\n",
              "      <td>4</td>\n",
              "      <td>0</td>\n",
              "    </tr>\n",
              "    <tr>\n",
              "      <th>Trouser</th>\n",
              "      <td>2</td>\n",
              "      <td>990</td>\n",
              "      <td>0</td>\n",
              "      <td>6</td>\n",
              "      <td>0</td>\n",
              "      <td>0</td>\n",
              "      <td>1</td>\n",
              "      <td>0</td>\n",
              "      <td>1</td>\n",
              "      <td>0</td>\n",
              "    </tr>\n",
              "    <tr>\n",
              "      <th>Pullover</th>\n",
              "      <td>14</td>\n",
              "      <td>1</td>\n",
              "      <td>915</td>\n",
              "      <td>7</td>\n",
              "      <td>33</td>\n",
              "      <td>0</td>\n",
              "      <td>30</td>\n",
              "      <td>0</td>\n",
              "      <td>0</td>\n",
              "      <td>0</td>\n",
              "    </tr>\n",
              "    <tr>\n",
              "      <th>Dress</th>\n",
              "      <td>11</td>\n",
              "      <td>4</td>\n",
              "      <td>11</td>\n",
              "      <td>929</td>\n",
              "      <td>24</td>\n",
              "      <td>0</td>\n",
              "      <td>17</td>\n",
              "      <td>0</td>\n",
              "      <td>1</td>\n",
              "      <td>3</td>\n",
              "    </tr>\n",
              "    <tr>\n",
              "      <th>Coat</th>\n",
              "      <td>3</td>\n",
              "      <td>1</td>\n",
              "      <td>42</td>\n",
              "      <td>14</td>\n",
              "      <td>909</td>\n",
              "      <td>0</td>\n",
              "      <td>30</td>\n",
              "      <td>0</td>\n",
              "      <td>1</td>\n",
              "      <td>0</td>\n",
              "    </tr>\n",
              "    <tr>\n",
              "      <th>Sandal</th>\n",
              "      <td>0</td>\n",
              "      <td>0</td>\n",
              "      <td>0</td>\n",
              "      <td>0</td>\n",
              "      <td>0</td>\n",
              "      <td>983</td>\n",
              "      <td>0</td>\n",
              "      <td>11</td>\n",
              "      <td>0</td>\n",
              "      <td>6</td>\n",
              "    </tr>\n",
              "    <tr>\n",
              "      <th>Shirt</th>\n",
              "      <td>100</td>\n",
              "      <td>2</td>\n",
              "      <td>54</td>\n",
              "      <td>26</td>\n",
              "      <td>72</td>\n",
              "      <td>0</td>\n",
              "      <td>742</td>\n",
              "      <td>0</td>\n",
              "      <td>4</td>\n",
              "      <td>0</td>\n",
              "    </tr>\n",
              "    <tr>\n",
              "      <th>Sneaker</th>\n",
              "      <td>0</td>\n",
              "      <td>0</td>\n",
              "      <td>0</td>\n",
              "      <td>0</td>\n",
              "      <td>0</td>\n",
              "      <td>4</td>\n",
              "      <td>0</td>\n",
              "      <td>966</td>\n",
              "      <td>0</td>\n",
              "      <td>30</td>\n",
              "    </tr>\n",
              "    <tr>\n",
              "      <th>Bag</th>\n",
              "      <td>1</td>\n",
              "      <td>0</td>\n",
              "      <td>1</td>\n",
              "      <td>1</td>\n",
              "      <td>1</td>\n",
              "      <td>1</td>\n",
              "      <td>0</td>\n",
              "      <td>0</td>\n",
              "      <td>994</td>\n",
              "      <td>1</td>\n",
              "    </tr>\n",
              "    <tr>\n",
              "      <th>Ankle boot</th>\n",
              "      <td>0</td>\n",
              "      <td>0</td>\n",
              "      <td>0</td>\n",
              "      <td>0</td>\n",
              "      <td>0</td>\n",
              "      <td>2</td>\n",
              "      <td>1</td>\n",
              "      <td>13</td>\n",
              "      <td>0</td>\n",
              "      <td>984</td>\n",
              "    </tr>\n",
              "  </tbody>\n",
              "</table>\n",
              "</div>\n",
              "      <button class=\"colab-df-convert\" onclick=\"convertToInteractive('df-4a957574-fd22-4214-bb58-d94047e08220')\"\n",
              "              title=\"Convert this dataframe to an interactive table.\"\n",
              "              style=\"display:none;\">\n",
              "        \n",
              "  <svg xmlns=\"http://www.w3.org/2000/svg\" height=\"24px\"viewBox=\"0 0 24 24\"\n",
              "       width=\"24px\">\n",
              "    <path d=\"M0 0h24v24H0V0z\" fill=\"none\"/>\n",
              "    <path d=\"M18.56 5.44l.94 2.06.94-2.06 2.06-.94-2.06-.94-.94-2.06-.94 2.06-2.06.94zm-11 1L8.5 8.5l.94-2.06 2.06-.94-2.06-.94L8.5 2.5l-.94 2.06-2.06.94zm10 10l.94 2.06.94-2.06 2.06-.94-2.06-.94-.94-2.06-.94 2.06-2.06.94z\"/><path d=\"M17.41 7.96l-1.37-1.37c-.4-.4-.92-.59-1.43-.59-.52 0-1.04.2-1.43.59L10.3 9.45l-7.72 7.72c-.78.78-.78 2.05 0 2.83L4 21.41c.39.39.9.59 1.41.59.51 0 1.02-.2 1.41-.59l7.78-7.78 2.81-2.81c.8-.78.8-2.07 0-2.86zM5.41 20L4 18.59l7.72-7.72 1.47 1.35L5.41 20z\"/>\n",
              "  </svg>\n",
              "      </button>\n",
              "      \n",
              "  <style>\n",
              "    .colab-df-container {\n",
              "      display:flex;\n",
              "      flex-wrap:wrap;\n",
              "      gap: 12px;\n",
              "    }\n",
              "\n",
              "    .colab-df-convert {\n",
              "      background-color: #E8F0FE;\n",
              "      border: none;\n",
              "      border-radius: 50%;\n",
              "      cursor: pointer;\n",
              "      display: none;\n",
              "      fill: #1967D2;\n",
              "      height: 32px;\n",
              "      padding: 0 0 0 0;\n",
              "      width: 32px;\n",
              "    }\n",
              "\n",
              "    .colab-df-convert:hover {\n",
              "      background-color: #E2EBFA;\n",
              "      box-shadow: 0px 1px 2px rgba(60, 64, 67, 0.3), 0px 1px 3px 1px rgba(60, 64, 67, 0.15);\n",
              "      fill: #174EA6;\n",
              "    }\n",
              "\n",
              "    [theme=dark] .colab-df-convert {\n",
              "      background-color: #3B4455;\n",
              "      fill: #D2E3FC;\n",
              "    }\n",
              "\n",
              "    [theme=dark] .colab-df-convert:hover {\n",
              "      background-color: #434B5C;\n",
              "      box-shadow: 0px 1px 3px 1px rgba(0, 0, 0, 0.15);\n",
              "      filter: drop-shadow(0px 1px 2px rgba(0, 0, 0, 0.3));\n",
              "      fill: #FFFFFF;\n",
              "    }\n",
              "  </style>\n",
              "\n",
              "      <script>\n",
              "        const buttonEl =\n",
              "          document.querySelector('#df-4a957574-fd22-4214-bb58-d94047e08220 button.colab-df-convert');\n",
              "        buttonEl.style.display =\n",
              "          google.colab.kernel.accessAllowed ? 'block' : 'none';\n",
              "\n",
              "        async function convertToInteractive(key) {\n",
              "          const element = document.querySelector('#df-4a957574-fd22-4214-bb58-d94047e08220');\n",
              "          const dataTable =\n",
              "            await google.colab.kernel.invokeFunction('convertToInteractive',\n",
              "                                                     [key], {});\n",
              "          if (!dataTable) return;\n",
              "\n",
              "          const docLinkHtml = 'Like what you see? Visit the ' +\n",
              "            '<a target=\"_blank\" href=https://colab.research.google.com/notebooks/data_table.ipynb>data table notebook</a>'\n",
              "            + ' to learn more about interactive tables.';\n",
              "          element.innerHTML = '';\n",
              "          dataTable['output_type'] = 'display_data';\n",
              "          await google.colab.output.renderOutput(dataTable, element);\n",
              "          const docLink = document.createElement('div');\n",
              "          docLink.innerHTML = docLinkHtml;\n",
              "          element.appendChild(docLink);\n",
              "        }\n",
              "      </script>\n",
              "    </div>\n",
              "  </div>\n",
              "  "
            ]
          },
          "metadata": {},
          "execution_count": 16
        }
      ]
    },
    {
      "cell_type": "code",
      "source": [
        "print(test_labels[:100])"
      ],
      "metadata": {
        "colab": {
          "base_uri": "https://localhost:8080/"
        },
        "id": "Y7Y7PkOdqgHu",
        "outputId": "470088d4-6435-4128-e395-a33db31ad139"
      },
      "execution_count": 17,
      "outputs": [
        {
          "output_type": "stream",
          "name": "stdout",
          "text": [
            "[9 2 1 1 6 1 4 6 5 7 4 5 7 3 4 1 2 4 8 0 2 5 7 9 1 4 6 0 9 3 8 8 3 3 8 0 7\n",
            " 5 7 9 6 1 3 7 6 7 2 1 2 2 4 4 5 8 2 2 8 4 8 0 7 7 8 5 1 1 2 3 9 8 7 0 2 6\n",
            " 2 3 1 2 8 4 1 8 5 9 5 0 3 2 0 6 5 3 6 7 1 8 0 1 4 2]\n"
          ]
        }
      ]
    },
    {
      "cell_type": "markdown",
      "source": [
        "##F1 score is 0.93"
      ],
      "metadata": {
        "id": "nXzafFssqraN"
      }
    },
    {
      "cell_type": "code",
      "source": [],
      "metadata": {
        "id": "Gysovn74qkeN"
      },
      "execution_count": null,
      "outputs": []
    }
  ]
}